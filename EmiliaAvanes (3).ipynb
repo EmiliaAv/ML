{
 "cells": [
  {
   "cell_type": "code",
   "execution_count": 6,
   "metadata": {},
   "outputs": [
    {
     "name": "stdout",
     "output_type": "stream",
     "text": [
      "Accuracy is 0.9021164021164021\n",
      "Clinton\n"
     ]
    }
   ],
   "source": [
    "import pandas as pd\n",
    "import numpy as np\n",
    "from sklearn.cross_validation import train_test_split\n",
    "from sklearn.linear_model import LogisticRegression\n",
    "from sklearn.tree import DecisionTreeClassifier\n",
    "from sklearn.metrics import accuracy_score\n",
    "from sklearn import metrics\n",
    "\n",
    "\n",
    "DATA_SET_PATH = \"election_dataset.csv\"\n",
    "\n",
    "def train_logistic_regression(train_x, train_y):\n",
    "    logistic_regression_model = LogisticRegression()\n",
    "    logistic_regression_model.fit(train_x, train_y)\n",
    "    return logistic_regression_model\n",
    "\n",
    "dataset = pd.read_csv(\"election_dataset.csv\")\n",
    "#Data slicing: split data into train and test set. \n",
    "#Training data set can be used specifically for our model building.\n",
    "# .values: converting our dataframes into numpy arrays\n",
    "x = dataset.values[:, [1,5,6]]  #predictor variables\n",
    "y = dataset.values[:,9]  #outcome variable    \n",
    "\n",
    "#split our data into training and test set using sklearn’s train_test_split() method.\n",
    "X_train, X_test, y_train, y_test = train_test_split( x,y, test_size = 0.8, random_state = 100)\n",
    "#test_size=0.8: it means test sets will be 80% of whole dataset \n",
    "#random_state: number generator used for random sampling\n",
    "features = []\n",
    "target = 'vote'\n",
    "\n",
    "clf_entropy = DecisionTreeClassifier(criterion = \"entropy\", max_depth=3, min_samples_leaf=5)\n",
    "clf_entropy.fit(X_train, y_train)\n",
    "\n",
    "# Predict target variable for the whole test dataset.\n",
    "y_pred = clf_entropy.predict(X_test)\n",
    "y_pred\n",
    "\n",
    "trained_logistic_regression_model = train_logistic_regression(x,y)\n",
    "def model_accuracy(trained_model, features, targets):\n",
    "    accuracy_score = trained_model.score(features, targets)\n",
    "    return accuracy_score\n",
    "print (\"Accuracy is\", accuracy_score(y_test,y_pred))\n",
    "\n",
    "# Predict classes for our test set using predict() method. \n",
    "# Predict target variable for a single record\n",
    "if clf_entropy.predict([[7,1,25]])==0:\n",
    "    print (\"Clinton\")\n",
    "else:\n",
    "    print (\"Dole\")\n",
    "\n",
    "\n"
   ]
  },
  {
   "cell_type": "code",
   "execution_count": null,
   "metadata": {},
   "outputs": [],
   "source": []
  },
  {
   "cell_type": "code",
   "execution_count": null,
   "metadata": {},
   "outputs": [],
   "source": []
  },
  {
   "cell_type": "code",
   "execution_count": null,
   "metadata": {},
   "outputs": [],
   "source": []
  }
 ],
 "metadata": {
  "kernelspec": {
   "display_name": "Python 3",
   "language": "python",
   "name": "python3"
  },
  "language_info": {
   "codemirror_mode": {
    "name": "ipython",
    "version": 3
   },
   "file_extension": ".py",
   "mimetype": "text/x-python",
   "name": "python",
   "nbconvert_exporter": "python",
   "pygments_lexer": "ipython3",
   "version": "3.6.5"
  }
 },
 "nbformat": 4,
 "nbformat_minor": 2
}
