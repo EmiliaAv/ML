{
 "cells": [
  {
   "cell_type": "markdown",
   "metadata": {},
   "source": [
    "# Train a ConvNet!\n",
    "We now have a generic solver and a bunch of modularized layers. It's time to put it all together, and train a ConvNet to recognize the classes in CIFAR-10. In this notebook we will walk you through training a simple two-layer ConvNet and then set you free to build the best net that you can to perform well on CIFAR-10.\n",
    "\n",
    "Open up the file `cs231n/classifiers/convnet.py`; you will see that the `two_layer_convnet` function computes the loss and gradients for a two-layer ConvNet. Note that this function uses the \"sandwich\" layers defined in `cs231n/layer_utils.py`. "
   ]
  },
  {
   "cell_type": "code",
   "execution_count": null,
   "metadata": {},
   "outputs": [],
   "source": [
    "# As usual, a bit of setup\n",
    "\n",
    "import numpy as np\n",
    "import matplotlib.pyplot as plt\n",
    "from cs231n.classifier_trainer import ClassifierTrainer\n",
    "from cs231n.gradient_check import eval_numerical_gradient\n",
    "from cs231n.classifiers.convnet import *\n",
    "\n",
    "%matplotlib inline\n",
    "plt.rcParams['figure.figsize'] = (10.0, 8.0) # set default size of plots\n",
    "plt.rcParams['image.interpolation'] = 'nearest'\n",
    "plt.rcParams['image.cmap'] = 'gray'\n",
    "\n",
    "# for auto-reloading external modules\n",
    "# see http://stackoverflow.com/questions/1907993/autoreload-of-modules-in-ipython\n",
    "%load_ext autoreload\n",
    "%autoreload 2\n",
    "\n",
    "def rel_error(x, y):\n",
    "  \"\"\" returns relative error \"\"\"\n",
    "  return np.max(np.abs(x - y) / (np.maximum(1e-8, np.abs(x) + np.abs(y))))"
   ]
  },
  {
   "cell_type": "code",
   "execution_count": null,
   "metadata": {},
   "outputs": [],
   "source": [
    "# Import data\n",
    "train_ramspeed   = np.loadtxt(open(\"train_test_data/trainsamples_ramspeed.csv\",\"rb\"),delimiter=\",\",skiprows=0)\n",
    "train_flac       = np.loadtxt(open(\"train_test_data/trainsamples_flac.csv\",\"rb\"),delimiter=\",\",skiprows=0)\n",
    "train_aobench    = np.loadtxt(open(\"train_test_data/trainsamples_aobench.csv\",\"rb\"),delimiter=\",\",skiprows=0)\n",
    "train_git        = np.loadtxt(open(\"train_test_data/trainsamples_git.csv\",\"rb\"),delimiter=\",\",skiprows=0)\n",
    "train_gimp       = np.loadtxt(open(\"train_test_data/trainsamples_gimp.csv\",\"rb\"),delimiter=\",\",skiprows=0)\n",
    "train_7zip       = np.loadtxt(open(\"train_test_data/trainsamples_7zip.csv\",\"rb\"),delimiter=\",\",skiprows=0)\n",
    "train_cyclictest = np.loadtxt(open(\"train_test_data/trainsamples_cyclictest.csv\",\"rb\"),delimiter=\",\",skiprows=0)\n",
    "train_opencv     = np.loadtxt(open(\"train_test_data/trainsamples_opencv.csv\",\"rb\"),delimiter=\",\",skiprows=0)\n",
    "train_phpbench   = np.loadtxt(open(\"train_test_data/trainsamples_phpbench.csv\",\"rb\"),delimiter=\",\",skiprows=0)\n",
    "train_stream     = np.loadtxt(open(\"train_test_data/trainsamples_stream.csv\",\"rb\"),delimiter=\",\",skiprows=0)\n",
    "train_ttest      = np.loadtxt(open(\"train_test_data/trainsamples_ttest.csv\",\"rb\"),delimiter=\",\",skiprows=0)\n",
    "\n",
    "test_ramspeed    = np.loadtxt(open(\"train_test_data/testsamples_ramspeed.csv\",\"rb\"),delimiter=\",\",skiprows=0)\n",
    "test_flac        = np.loadtxt(open(\"train_test_data/testsamples_flac.csv\",\"rb\"),delimiter=\",\",skiprows=0)\n",
    "test_aobench     = np.loadtxt(open(\"train_test_data/testsamples_aobench.csv\",\"rb\"),delimiter=\",\",skiprows=0)\n",
    "test_git         = np.loadtxt(open(\"train_test_data/testsamples_git.csv\",\"rb\"),delimiter=\",\",skiprows=0)\n",
    "test_gimp        = np.loadtxt(open(\"train_test_data/testsamples_gimp.csv\",\"rb\"),delimiter=\",\",skiprows=0)\n",
    "test_7zip        = np.loadtxt(open(\"train_test_data/testsamples_7zip.csv\",\"rb\"),delimiter=\",\",skiprows=0)\n",
    "test_cyclictest  = np.loadtxt(open(\"train_test_data/testsamples_cyclictest.csv\",\"rb\"),delimiter=\",\",skiprows=0)\n",
    "test_opencv      = np.loadtxt(open(\"train_test_data/testsamples_opencv.csv\",\"rb\"),delimiter=\",\",skiprows=0)\n",
    "test_phpbench    = np.loadtxt(open(\"train_test_data/testsamples_phpbench.csv\",\"rb\"),delimiter=\",\",skiprows=0)\n",
    "test_stream      = np.loadtxt(open(\"train_test_data/testsamples_stream.csv\",\"rb\"),delimiter=\",\",skiprows=0)\n",
    "test_ttest       = np.loadtxt(open(\"train_test_data/testsamples_ttest.csv\",\"rb\"),delimiter=\",\",skiprows=0)\n"
   ]
  },
  {
   "cell_type": "code",
   "execution_count": null,
   "metadata": {},
   "outputs": [],
   "source": [
    "# print data shapes\n",
    "print('Train data shapes:')\n",
    "print(train_ramspeed.shape)\n",
    "print(train_flac.shape)\n",
    "print(train_aobench.shape)\n",
    "print(train_git.shape)\n",
    "print(train_gimp.shape)\n",
    "print(train_7zip.shape)\n",
    "print(train_cyclictest.shape)\n",
    "print(train_opencv.shape)\n",
    "print(train_phpbench.shape)\n",
    "print(train_stream.shape)\n",
    "print(train_ttest.shape)\n",
    "\n",
    "print('Test data shapes:')\n",
    "print(test_ramspeed.shape)\n",
    "print(test_flac.shape)\n",
    "print(test_aobench.shape)\n",
    "print(test_git.shape)\n",
    "print(test_gimp.shape)\n",
    "print(test_7zip.shape)\n",
    "print(test_cyclictest.shape)\n",
    "print(test_opencv.shape)\n",
    "print(test_phpbench.shape)\n",
    "print(test_stream.shape)\n",
    "print(test_ttest.shape)"
   ]
  },
  {
   "cell_type": "code",
   "execution_count": null,
   "metadata": {},
   "outputs": [],
   "source": [
    "# from cs231n.data_utils import load_CIFAR10\n",
    "\n",
    "# def get_CIFAR10_data(num_training=49000, num_validation=1000, num_test=1000):\n",
    "#     \"\"\"\n",
    "#     Load the CIFAR-10 dataset from disk and perform preprocessing to prepare\n",
    "#     it for the two-layer neural net classifier. These are the same steps as\n",
    "#     we used for the SVM, but condensed to a single function.  \n",
    "#     \"\"\"\n",
    "    # Load the raw CIFAR-10 data\n",
    "#     cifar10_dir = 'cs231n/datasets/cifar-10-batches-py'\n",
    "#     X_train, y_train, X_test, y_test = load_CIFAR10(cifar10_dir)\n",
    "\n",
    "    \n",
    "    # Subsample the data\n",
    "#     mask = range(num_training, num_training + num_validation)\n",
    "#     X_val = X_train[mask]\n",
    "#     y_val = y_train[mask]\n",
    "#     mask = range(num_training)\n",
    "#     X_train = X_train[mask]\n",
    "#     y_train = y_train[mask]\n",
    "#     mask = range(num_test)\n",
    "#     X_test = X_test[mask]\n",
    "#     y_test = y_test[mask]\n",
    "\n",
    "#     # Normalize the data: subtract the mean image\n",
    "#     mean_image = np.mean(X_train, axis=0)\n",
    "#     X_train -= mean_image\n",
    "#     X_val -= mean_image\n",
    "#     X_test -= mean_image\n",
    "    \n",
    "#     # Transpose so that channels come first\n",
    "#     X_train = X_train.transpose(0, 3, 1, 2).copy()\n",
    "#     X_val = X_val.transpose(0, 3, 1, 2).copy()\n",
    "#     X_test = X_test.transpose(0, 3, 1, 2).copy()\n",
    "\n",
    "#     return X_train, y_train, X_val, y_val, X_test, y_test\n",
    "\n",
    "\n",
    "# # Invoke the above function to get our data.\n",
    "# X_train, y_train, X_val, y_val, X_test, y_test = get_CIFAR10_data()\n",
    "# print ('Train data shape: ', X_train.shape)\n",
    "# print ('Train labels shape: ', y_train.shape)\n",
    "# print ('Validation data shape: ', X_val.shape)\n",
    "# print ('Validation labels shape: ', y_val.shape)\n",
    "# print ('Test data shape: ', X_test.shape)\n",
    "# print ('Test labels shape: ', y_test.shape)\n",
    "##################################################\n",
    "\n",
    "# train_ramspeed = np.loadtxt(open(\"train_test_data/trainsamples_ramspeed.csv\",\"rb\"),delimiter=\",\",skiprows=0)\n",
    "# train_flac = np.loadtxt(open(\"train_test_data/trainsamples_flac.csv\",\"rb\"),delimiter=\",\",skiprows=0)\n",
    "# test_ramspeed = np.loadtxt(open(\"train_test_data/testsamples_ramspeed.csv\",\"rb\"),delimiter=\",\",skiprows=0)\n",
    "# test_flac = np.loadtxt(open(\"train_test_data/testsamples_flac.csv\",\"rb\"),delimiter=\",\",skiprows=0)\n",
    "\n",
    "num_classes=11\n",
    "\"\"\"\n",
    "Label order: 7zip--1, cyclictest--2, ramspeed--3, aobench--4, gimp--5, \n",
    "             stream--6, flac--7, git--8, ttest--9, opencv--10, phpbench--11\n",
    "\"\"\"\n",
    "\n",
    "# Insert labels into the first column of each train/test data arrays before shuffle\n",
    "lab1 = np.ones((train_7zip.shape[0],1))*0\n",
    "lab_train_7zip = np.hstack((lab1,train_7zip))\n",
    "lab1 = np.ones((test_7zip.shape[0],1))*0\n",
    "lab_test_7zip = np.hstack((lab1,test_7zip))\n",
    "\n",
    "lab2 = np.ones((train_cyclictest.shape[0],1))*1\n",
    "lab_train_cyclictest = np.hstack((lab2,train_cyclictest))\n",
    "lab2 = np.ones((test_cyclictest.shape[0],1))*1\n",
    "lab_test_cyclictest = np.hstack((lab2,test_cyclictest))\n",
    "\n",
    "lab3 = np.ones((train_ramspeed.shape[0],1))*2\n",
    "lab_train_ramspeed = np.hstack((lab3,train_ramspeed))\n",
    "lab3 = np.ones((test_ramspeed.shape[0],1))*2\n",
    "lab_test_ramspeed = np.hstack((lab3,test_ramspeed))\n",
    "\n",
    "lab4 = np.ones((train_aobench.shape[0],1))*3\n",
    "lab_train_aobench = np.hstack((lab4,train_aobench))\n",
    "lab4 = np.ones((test_aobench.shape[0],1))*3\n",
    "lab_test_aobench = np.hstack((lab4,test_aobench))\n",
    "\n",
    "lab5 = np.ones((train_gimp.shape[0],1))*4\n",
    "lab_train_gimp = np.hstack((lab5,train_gimp))\n",
    "lab5 = np.ones((test_gimp.shape[0],1))*4\n",
    "lab_test_gimp = np.hstack((lab5,test_gimp))\n",
    "\n",
    "lab6 = np.ones((train_stream.shape[0],1))*5\n",
    "lab_train_stream = np.hstack((lab6,train_stream))\n",
    "lab6 = np.ones((test_stream.shape[0],1))*5\n",
    "lab_test_stream = np.hstack((lab6,test_stream))\n",
    "\n",
    "lab7 = np.ones((train_flac.shape[0],1))*6\n",
    "lab_train_flac = np.hstack((lab7,train_flac))\n",
    "lab7 = np.ones((test_flac.shape[0],1))*6\n",
    "lab_test_flac = np.hstack((lab7,test_flac))\n",
    "\n",
    "lab8 = np.ones((train_git.shape[0],1))*7\n",
    "lab_train_git = np.hstack((lab8,train_git))\n",
    "lab8 = np.ones((test_git.shape[0],1))*7\n",
    "lab_test_git = np.hstack((lab8,test_git))\n",
    "\n",
    "lab9 = np.ones((train_ttest.shape[0],1))*8\n",
    "lab_train_ttest = np.hstack((lab9,train_ttest))\n",
    "lab9 = np.ones((test_ttest.shape[0],1))*8\n",
    "lab_test_ttest = np.hstack((lab9,test_ttest))\n",
    "\n",
    "lab10 = np.ones((train_opencv.shape[0],1))*9\n",
    "lab_train_opencv = np.hstack((lab10,train_opencv))\n",
    "lab10 = np.ones((test_opencv.shape[0],1))*9\n",
    "lab_test_opencv = np.hstack((lab10,test_opencv))\n",
    "\n",
    "lab11 = np.ones((train_phpbench.shape[0],1))*10\n",
    "lab_train_phpbench = np.hstack((lab11,train_phpbench))\n",
    "lab11 = np.ones((test_phpbench.shape[0],1))*10\n",
    "lab_test_phpbench = np.hstack((lab11,test_phpbench))\n",
    "\n"
   ]
  },
  {
   "cell_type": "code",
   "execution_count": null,
   "metadata": {},
   "outputs": [],
   "source": [
    "Train = np.vstack((lab_train_7zip,lab_train_cyclictest,lab_train_ramspeed,lab_train_aobench,lab_train_gimp,\n",
    "                   lab_train_stream,lab_train_flac,lab_train_git,lab_train_ttest,\n",
    "                   lab_train_opencv,lab_train_phpbench))\n",
    "np.random.shuffle(Train)\n",
    "mask = range(Train.shape[0])\n",
    "X_train = Train[mask,1:]\n",
    "X_train = X_train.reshape(X_train.shape[0],1,50,40)\n",
    "y_train = Train[mask,0]\n",
    "y_train = y_train.astype(np.int64)\n",
    "\n",
    "Test = np.vstack((lab_test_7zip,lab_test_cyclictest,lab_test_ramspeed,lab_test_aobench,lab_test_gimp,\n",
    "                  lab_test_stream,lab_test_flac,lab_test_git,lab_test_ttest,\n",
    "                  lab_test_opencv,lab_test_phpbench))\n",
    "np.random.shuffle(Test)\n",
    "maskidx = np.int(Test.shape[0]/2)\n",
    "X_val = Test[range(maskidx),1:]\n",
    "X_val = X_val.reshape(X_val.shape[0],1,50,40)\n",
    "y_val = Test[range(maskidx),0]\n",
    "y_val = y_val.astype(np.int64)\n",
    "X_test = Test[maskidx:,1:]\n",
    "X_test = X_test.reshape(X_test.shape[0],1,50,40)\n",
    "y_test = Test[maskidx:,0]\n",
    "y_test = y_test.astype(np.int64)\n",
    "\n",
    "# Normalize the data: subtract the mean image\n",
    "mean_image = np.mean(np.vstack((X_train,X_test,X_val)), axis=0)\n",
    "X_train -= mean_image\n",
    "X_val -= mean_image\n",
    "X_test -= mean_image\n",
    "\n",
    "print(train_aobench.shape)\n",
    "print(train_ttest.shape)\n",
    "print(lab_test_git.shape)\n",
    "print(lab_test_stream.shape)\n",
    "print(Train.shape)\n",
    "print(Test.shape)\n",
    "print ('Train data shape: ', X_train.shape)\n",
    "print ('Train labels shape: ', y_train.shape)\n",
    "print ('Validation data shape: ', X_val.shape)\n",
    "print ('Validation labels shape: ', y_val.shape)\n",
    "print ('Test data shape: ', X_test.shape)\n",
    "print ('Test labels shape: ', y_test.shape)"
   ]
  },
  {
   "cell_type": "code",
   "execution_count": null,
   "metadata": {},
   "outputs": [],
   "source": [
    "print(y_val)\n",
    "k=0"
   ]
  },
  {
   "cell_type": "code",
   "execution_count": null,
   "metadata": {},
   "outputs": [],
   "source": [
    "# print(X_train.shape)\n",
    "k = np.random.randint(X_train.shape[0])\n",
    "print(y_train[k],'k=',k)\n",
    "bb = X_train[k,0]\n",
    "\n",
    "# plt.imshow(mean_image.astype('uint8'))\n",
    "plt.subplot(1, 3, 1)\n",
    "plt.imshow(bb)\n",
    "plt.subplot(1, 3, 2)\n",
    "plt.imshow(mean_image[0])\n",
    "plt.subplot(1, 3, 3)\n",
    "plt.imshow(bb-mean_image[0] )\n",
    "k+=1\n"
   ]
  },
  {
   "cell_type": "markdown",
   "metadata": {},
   "source": [
    "# Sanity check loss\n",
    "After you build a new network, one of the first things you should do is sanity check the loss. When we use the softmax loss, we expect the loss for random weights (and no regularization) to be about `log(C)` for `C` classes. When we add regularization this should go up."
   ]
  },
  {
   "cell_type": "code",
   "execution_count": null,
   "metadata": {},
   "outputs": [],
   "source": [
    "input_shape = (1, 50, 40)\n",
    "model = init_two_layer_convnet(input_shape=input_shape)\n",
    "# model = init_two_layer_convnet(num_filters=3, filter_size=3, input_shape=input_shape)\n",
    "X = np.random.randn(100, 1, 50, 40)\n",
    "y = np.random.randint(10, size=100)\n",
    "\n",
    "loss, _ = two_layer_convnet(X, model, y, reg=0)\n",
    "\n",
    "# Sanity check: Loss should be about log(10) = 2.3026\n",
    "print ('Sanity check loss (no regularization): ', loss)\n",
    "\n",
    "# Sanity check: Loss should go up when you add regularization\n",
    "loss, _ = two_layer_convnet(X, model, y, reg=1)\n",
    "print ('Sanity check loss (with regularization): ', loss)"
   ]
  },
  {
   "cell_type": "markdown",
   "metadata": {},
   "source": [
    "# Gradient check\n",
    "After the loss looks reasonable, you should always use numeric gradient checking to make sure that your backward pass is correct. When you use numeric gradient checking you should use a small amount of artifical data and a small number of neurons at each layer."
   ]
  },
  {
   "cell_type": "code",
   "execution_count": null,
   "metadata": {},
   "outputs": [],
   "source": [
    "num_inputs = 2\n",
    "input_shape = (1, 50, 40)\n",
    "reg = 0.0\n",
    "num_classes = 11\n",
    "X = np.random.randn(num_inputs, *input_shape)\n",
    "y = np.random.randint(num_classes, size=num_inputs)\n",
    "\n",
    "# model = init_two_layer_convnet(num_filters=3, filter_size=3, input_shape=input_shape)\n",
    "model = init_two_layer_convnet(weight_scale=1e-3, bias_scale=0, input_shape=(1, 50, 40),\n",
    "                           num_classes=num_classes, num_filters=3, filter_size=3)\n",
    "loss, grads = two_layer_convnet(X, model, y)\n",
    "for param_name in sorted(grads):\n",
    "    f = lambda _: two_layer_convnet(X, model, y)[0]\n",
    "    param_grad_num = eval_numerical_gradient(f, model[param_name], verbose=False, h=1e-6)\n",
    "    e = rel_error(param_grad_num, grads[param_name])\n",
    "    print ('%s max relative error: %e' % (param_name, rel_error(param_grad_num, grads[param_name])))"
   ]
  },
  {
   "cell_type": "markdown",
   "metadata": {},
   "source": [
    "# Overfit small data\n",
    "A nice trick is to train your model with just a few training samples. You should be able to overfit small datasets, which will result in very high training accuracy and comparatively low validation accuracy."
   ]
  },
  {
   "cell_type": "code",
   "execution_count": null,
   "metadata": {},
   "outputs": [],
   "source": [
    "print(y_train)\n"
   ]
  },
  {
   "cell_type": "code",
   "execution_count": null,
   "metadata": {},
   "outputs": [],
   "source": [
    "# Use a two-layer ConvNet to overfit 50 training examples.\n",
    "num_classes = 11\n",
    "model = init_two_layer_convnet(weight_scale=1e-3, bias_scale=0, input_shape=(1, 50, 40),\n",
    "                           num_classes=num_classes, num_filters=32, filter_size=5)\n",
    "trainer = ClassifierTrainer()\n",
    "ridx = np.random.randint(8000,size = 10)\n",
    "print('ridx =',ridx)\n",
    "best_model, loss_history, train_acc_history, val_acc_history = trainer.train(\n",
    "          X_train[ridx], y_train[ridx], X_val, y_val, model, two_layer_convnet,\n",
    "          reg=0.001, momentum=0.9, learning_rate=0.0001, batch_size=2, num_epochs=10,\n",
    "          verbose=True)"
   ]
  },
  {
   "cell_type": "markdown",
   "metadata": {},
   "source": [
    "Plotting the loss, training accuracy, and validation accuracy should show clear overfitting:"
   ]
  },
  {
   "cell_type": "code",
   "execution_count": null,
   "metadata": {},
   "outputs": [],
   "source": [
    "plt.subplot(2, 1, 1)\n",
    "plt.plot(loss_history)\n",
    "plt.xlabel('iteration')\n",
    "plt.ylabel('loss')\n",
    "\n",
    "plt.subplot(2, 1, 2)\n",
    "plt.plot(train_acc_history)\n",
    "plt.plot(val_acc_history)\n",
    "plt.legend(['train', 'val'], loc='upper left')\n",
    "plt.xlabel('epoch')\n",
    "plt.ylabel('accuracy')\n",
    "plt.show()"
   ]
  },
  {
   "cell_type": "markdown",
   "metadata": {},
   "source": [
    "# Train the net\n",
    "Once the above works, training the net is the next thing to try. You can set the `acc_frequency` parameter to change the frequency at which the training and validation set accuracies are tested. If your parameters are set properly, you should see the training and validation accuracy start to improve within a hundred iterations, and you should be able to train a reasonable model with just one epoch.\n",
    "\n",
    "Using the parameters below you should be able to get around 50% accuracy on the validation set."
   ]
  },
  {
   "cell_type": "code",
   "execution_count": null,
   "metadata": {
    "scrolled": true
   },
   "outputs": [],
   "source": [
    "model = init_two_layer_convnet(weight_scale=1e-3, bias_scale=0, input_shape=(1, 50, 40),\n",
    "                           num_classes=2, num_filters=3, filter_size=3)\n",
    "trainer = ClassifierTrainer()\n",
    "best_model, loss_history, train_acc_history, val_acc_history = trainer.train(\n",
    "          X_train, y_train, X_val, y_val, model, two_layer_convnet,\n",
    "          reg=0.001, momentum=0.9, learning_rate=0.0005, batch_size=30, num_epochs=5,\n",
    "          acc_frequency=10, verbose=True)"
   ]
  },
  {
   "cell_type": "code",
   "execution_count": null,
   "metadata": {},
   "outputs": [],
   "source": [
    "plt.subplot(2, 1, 1)\n",
    "plt.plot(loss_history)\n",
    "plt.xlabel('iteration')\n",
    "plt.ylabel('loss')\n",
    "\n",
    "plt.subplot(2, 1, 2)\n",
    "plt.plot(train_acc_history)\n",
    "plt.plot(val_acc_history)\n",
    "plt.legend(['train', 'val'], loc='upper left')\n",
    "plt.xlabel('epoch')\n",
    "plt.ylabel('accuracy')\n",
    "plt.show()"
   ]
  },
  {
   "cell_type": "code",
   "execution_count": null,
   "metadata": {
    "scrolled": true
   },
   "outputs": [],
   "source": [
    "scores_test = two_layer_convnet(X_test, best_model)\n",
    "def softmax(x):\n",
    "    x_exp = np.exp(x)\n",
    "    s = x_exp / np.sum(x_exp, axis = 1,keepdims=True)\n",
    "    return s\n",
    "probs = softmax(scores_test)\n",
    "classes = np.argmax(probs,axis = 1)\n",
    "print('y_test =',y_test)\n",
    "print('classes =',classes)\n",
    "pred_acc = np.mean(classes ==  y_test)\n",
    "print('pred_acc =', pred_acc)\n",
    "print('probs =',probs)\n",
    "np.where((classes-y_test)!=0)"
   ]
  },
  {
   "cell_type": "code",
   "execution_count": null,
   "metadata": {},
   "outputs": [],
   "source": [
    "yy = np.amax(probs,axis =1)\n",
    "xx = range(yy.shape[0])\n",
    "plt.scatter(xx,yy  )"
   ]
  },
  {
   "cell_type": "markdown",
   "metadata": {},
   "source": [
    "# Visualize weights\n",
    "We can visualize the convolutional weights from the first layer. If everything worked properly, these will usually be edges and blobs of various colors and orientations."
   ]
  },
  {
   "cell_type": "code",
   "execution_count": null,
   "metadata": {},
   "outputs": [],
   "source": [
    "plt.subplot(2, 1, 1)\n",
    "plt.plot(loss_history)\n",
    "plt.xlabel('iteration')\n",
    "plt.ylabel('loss')\n",
    "\n",
    "plt.subplot(2, 1, 2)\n",
    "plt.plot(train_acc_history)\n",
    "plt.plot(val_acc_history)\n",
    "plt.legend(['train', 'val'], loc='upper left')\n",
    "plt.xlabel('epoch')\n",
    "plt.ylabel('accuracy')\n",
    "plt.show()"
   ]
  },
  {
   "cell_type": "code",
   "execution_count": null,
   "metadata": {},
   "outputs": [],
   "source": [
    "best_model['W1'].shape\n",
    "grid3 = np.dstack((grid,grid,grid))\n",
    "grid3.shape"
   ]
  },
  {
   "cell_type": "code",
   "execution_count": null,
   "metadata": {
    "scrolled": false
   },
   "outputs": [],
   "source": [
    "from cs231n.vis_utils import visualize_grid\n",
    "\n",
    "grid = visualize_grid(best_model['W1'].transpose(0, 2, 3, 1))\n",
    "grid3 = np.dstack((grid,grid,grid))\n",
    "plt.imshow(grid3.astype('uint8'))"
   ]
  },
  {
   "cell_type": "code",
   "execution_count": null,
   "metadata": {},
   "outputs": [],
   "source": [
    "print(best_model['W1'])\n"
   ]
  }
 ],
 "metadata": {
  "kernelspec": {
   "display_name": "Python 3",
   "language": "python",
   "name": "python3"
  },
  "language_info": {
   "codemirror_mode": {
    "name": "ipython",
    "version": 3
   },
   "file_extension": ".py",
   "mimetype": "text/x-python",
   "name": "python",
   "nbconvert_exporter": "python",
   "pygments_lexer": "ipython3",
   "version": "3.7.1"
  }
 },
 "nbformat": 4,
 "nbformat_minor": 1
}
