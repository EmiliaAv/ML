{
 "cells": [
  {
   "cell_type": "markdown",
   "metadata": {},
   "source": [
    "1a. u=0.5\n",
    "    Since all are fair coins, c1, crandom, cmin have all probability of 0.5\n",
    "    \n",
    "1b. Histograms: See below histogram. \n",
    "Was able to plot in Matlab using: binornd(10, 0.5, 1, 1000) unable to copy into jupyter notebook.\n",
    "v1 and vrandom have a binomial distribution. vmin does not have a binomial distribution.\n",
    "\n",
    "1c. See graph below\n",
    "Hoeffding inequality cannot be applied to cmin.\n",
    "P[(vmin-umin)>epsilon]<=2e^(-2epsilon^2N) ~ 0.08 which is different from Pvmin ~0.6\n",
    "\n",
    "1d. c1 and crandom correspond to Hoeffdings inequality.\n"
   ]
  },
  {
   "cell_type": "code",
   "execution_count": 1,
   "metadata": {},
   "outputs": [],
   "source": [
    "import numpy as np\n",
    "import pandas as pd\n",
    "import random\n",
    "import matplotlib.pyplot as plt \n",
    "np.random.seed(42)\n"
   ]
  },
  {
   "cell_type": "code",
   "execution_count": 2,
   "metadata": {},
   "outputs": [
    {
     "data": {
      "text/plain": [
       "4"
      ]
     },
     "execution_count": 2,
     "metadata": {},
     "output_type": "execute_result"
    }
   ],
   "source": [
    "n = 10\n",
    "p = 0.5\n",
    "np.random.binomial(n,p)\n"
   ]
  },
  {
   "cell_type": "code",
   "execution_count": 3,
   "metadata": {},
   "outputs": [
    {
     "data": {
      "text/plain": [
       "array([ 4,  8,  6,  5,  3,  3,  3,  7,  5,  6,  2,  8,  7,  4,  4,  4,  4,\n",
       "        5,  5,  4,  5,  3,  4,  4,  5,  6,  4,  5,  5,  2,  5,  3,  3,  8,\n",
       "        8,  6,  4,  3,  6,  5,  3,  5,  2,  7,  4,  6,  4,  5,  5,  4,  8,\n",
       "        6,  7,  7,  5,  7,  3,  4,  2,  4,  5,  4,  7,  4,  4,  5,  3,  6,\n",
       "        3,  8,  6,  4,  1,  6,  6,  6,  6,  3,  4,  3,  7,  6,  4,  3,  4,\n",
       "        4,  6,  6,  7,  5,  3,  6,  6,  5,  6,  5,  5,  5,  2,  3,  2,  6,\n",
       "        4,  5,  7,  4,  5,  6,  4,  3,  4,  3,  7,  6,  6,  7,  6,  4,  7,\n",
       "        5,  6,  7,  4,  3,  4,  5,  6,  7,  1,  5,  5,  4,  3,  4,  7,  4,\n",
       "        5,  6,  4,  8,  8,  4,  5,  4,  4,  2,  5,  5,  2,  4,  7,  4,  3,\n",
       "        5,  8,  4,  6,  6,  4,  6,  4,  6,  6,  5,  3,  7,  4,  4,  2,  5,\n",
       "        6,  2,  5,  4,  6,  4,  6,  5,  7,  3,  4,  3,  7,  7,  4,  6,  6,\n",
       "        5,  5,  4,  3,  7,  7,  6,  4,  4,  6,  7,  7,  6,  6,  3,  3,  7,\n",
       "        5,  1,  3,  6,  1,  3,  5,  6,  6,  4,  6,  4,  4,  6,  6,  7,  6,\n",
       "        5,  3,  4,  4,  4,  8,  5,  7,  6,  6,  5,  5,  5,  4,  6,  4,  2,\n",
       "        6,  4,  7,  8,  7,  4,  2,  7,  5,  8,  8,  7,  4,  5,  7,  4,  3,\n",
       "        5,  7,  6,  5,  3,  5,  9,  3,  5,  7,  6,  6,  6,  4,  4,  6,  6,\n",
       "        7,  7,  5,  5,  6,  6,  6,  6,  7,  4,  4,  3,  5,  2,  5,  5,  4,\n",
       "        5,  2,  2,  6,  4,  3,  5,  6,  4,  5,  3,  2,  5,  5,  6,  6,  8,\n",
       "        5,  4,  6,  4,  5,  3,  2,  8,  7,  6,  5,  4,  3,  4,  5,  6,  6,\n",
       "        4,  8,  6,  5,  5,  5,  4,  4,  6,  2,  3,  2,  2,  7,  6,  5,  3,\n",
       "        5,  5,  4,  5,  5,  5,  6,  2,  4,  6,  5,  7,  6,  3,  3,  6,  2,\n",
       "        5,  7,  5,  5,  6,  5,  5,  7,  5,  8,  7,  4,  3,  3,  2,  3,  6,\n",
       "        3,  4,  7,  2,  6,  4,  3,  6,  6,  7,  6,  6,  4,  4,  6,  6,  9,\n",
       "        5,  4,  6,  4,  7,  7,  5,  6,  6,  3,  7,  5,  6,  4,  7,  5,  2,\n",
       "        7,  3,  4,  8,  8,  5,  6,  5,  4,  4,  6,  6,  6,  6,  3,  5,  3,\n",
       "        5,  5,  7,  4,  3,  3,  6,  5,  3,  3,  6,  3,  6,  6,  3,  3,  8,\n",
       "        4,  4,  6,  8,  8,  6,  4,  3,  6,  5,  5,  7,  3,  5,  2,  5,  3,\n",
       "        3,  3,  6,  6,  5,  8,  4,  4,  7,  4,  8,  2,  8,  2,  7,  5,  9,\n",
       "        3,  5,  8,  5,  6,  6,  5,  6,  5,  7,  2,  4,  8,  7,  5,  5,  4,\n",
       "        4,  5,  4,  5,  3,  8,  8,  6,  5,  4,  6,  6,  3,  7,  6,  8,  6,\n",
       "        5,  5,  7,  7,  2,  2,  4,  6,  8,  3,  5,  5,  8,  7,  7,  5,  5,\n",
       "        4,  3,  7,  6, 10,  9,  5,  6,  7,  7,  4,  5,  3,  8,  5,  4,  6,\n",
       "        5,  4,  3,  6,  5,  6,  5,  7,  5,  5,  7,  5,  3,  2,  6,  5,  6,\n",
       "        4,  3,  2,  4,  5,  5,  5,  7,  4,  5,  6,  5,  5,  7,  8,  3,  7,\n",
       "        5,  4,  5,  8,  5,  4,  6,  4,  3,  3,  3,  3,  3,  6,  4,  4,  7,\n",
       "        5,  6,  4,  4,  2,  3,  4,  4,  3,  3,  5,  4,  4,  5,  6,  2,  6,\n",
       "        6,  3,  7,  7,  3,  4,  6,  6,  4,  4,  4,  5,  5,  4,  5,  6,  2,\n",
       "        4,  6,  7,  5,  5,  3,  5,  5,  4,  4,  5,  2,  4,  4,  4,  3,  7,\n",
       "        5,  6,  6,  5,  3,  5,  5,  6,  5,  3,  4,  4,  6,  5,  4,  8,  5,\n",
       "        4,  3,  3,  4,  3,  4,  4,  4,  7,  3,  5,  5,  8,  3,  5,  8,  7,\n",
       "        6,  4,  3,  6,  7,  5,  5,  4,  6,  4,  4,  5,  5,  4,  3,  5,  4,\n",
       "        5,  3,  5,  5,  2,  4,  3,  3,  9,  4,  6,  4,  6,  6,  5,  5,  5,\n",
       "        4,  7,  7,  8,  3,  6,  7,  4,  3,  6,  5,  7,  3,  6,  4,  3,  3,\n",
       "        6,  6,  5,  4,  7,  5,  6,  5,  4,  5,  4,  6,  5,  4,  7,  5,  5,\n",
       "        7,  6,  3,  7,  6,  4,  3,  6,  5,  5,  7,  6,  3,  4,  4,  6,  2,\n",
       "        5,  6,  7,  4,  6,  3,  7,  3,  5,  6,  3,  4,  6,  6,  6,  6,  5,\n",
       "        4,  4,  4,  7,  5,  5,  5,  8,  3,  5,  5,  5,  2,  7,  7,  5,  6,\n",
       "        7,  6,  3,  5,  5,  5,  6,  7,  7,  5,  3,  8,  7,  3,  7,  7,  5,\n",
       "        5,  5,  3,  4,  6,  1,  4,  5,  5,  7,  4,  4,  6,  5,  4,  5,  3,\n",
       "        4,  5,  5,  7,  4,  5,  6,  2,  6,  4,  8,  3,  5,  3,  9,  5,  5,\n",
       "        3,  6,  4,  7,  4,  4,  2,  5,  5,  3,  6,  5,  5,  5,  5,  5,  3,\n",
       "        4,  7,  8,  4,  4,  6,  5,  2,  3,  6,  6,  2,  4,  4,  6,  2,  3,\n",
       "        6,  4,  6,  4,  3,  4,  6,  7,  7,  5,  6,  4,  4,  7,  2,  3,  4,\n",
       "        2,  4,  5,  5,  7,  6,  4,  4,  5,  5,  4,  6,  5,  5,  5,  4,  8,\n",
       "        6,  3,  7,  5,  7,  6,  5,  2,  4,  5,  6,  4,  3,  7,  8,  5,  3,\n",
       "        4,  2,  7,  3,  5,  4,  5,  6,  7,  4,  2,  3,  7,  7,  5,  5,  6,\n",
       "        4,  7,  5,  5,  5,  2,  3,  6,  3,  5,  4,  5,  4,  4,  6,  4,  5,\n",
       "        5,  6,  7,  6,  4,  2,  4,  5,  2,  5,  5,  4,  6,  3,  3,  6,  5,\n",
       "        6,  5,  4,  6,  6,  6,  4,  5,  4,  3,  7,  3,  8,  5])"
      ]
     },
     "execution_count": 3,
     "metadata": {},
     "output_type": "execute_result"
    }
   ],
   "source": [
    "np.random.seed(42)\n",
    "n=10\n",
    "p=0.5\n",
    "# let us repeat our experiment for 100 times\n",
    "size=1000\n",
    "x=np.random.binomial(n, p, size)\n",
    "x"
   ]
  },
  {
   "cell_type": "code",
   "execution_count": 4,
   "metadata": {},
   "outputs": [
    {
     "data": {
      "text/plain": [
       "[0, 5, 53, 134, 207, 238, 194, 116, 46, 6]"
      ]
     },
     "execution_count": 4,
     "metadata": {},
     "output_type": "execute_result"
    }
   ],
   "source": [
    "[np.equal(x,i).sum() for i in range(n)]"
   ]
  },
  {
   "cell_type": "code",
   "execution_count": 5,
   "metadata": {},
   "outputs": [
    {
     "name": "stdout",
     "output_type": "stream",
     "text": [
      "[0.0, 0.005, 0.053, 0.134, 0.207, 0.238, 0.194, 0.116, 0.046, 0.006]\n"
     ]
    }
   ],
   "source": [
    "probs_1000 = [np.equal(x,i).mean() for i in range(n)]\n",
    "print(probs_1000)"
   ]
  },
  {
   "cell_type": "code",
   "execution_count": 6,
   "metadata": {},
   "outputs": [
    {
     "data": {
      "text/plain": [
       "Text(0,0.5,'Probability')"
      ]
     },
     "execution_count": 6,
     "metadata": {},
     "output_type": "execute_result"
    },
    {
     "data": {
      "image/png": "[encoded data removed]",
      "text/plain": [
       "<Figure size 432x288 with 1 Axes>"
      ]
     },
     "metadata": {},
     "output_type": "display_data"
    }
   ],
   "source": [
    "plt.xticks(range(n))\n",
    "plt.plot(list(range(n)), probs_1000, color='blue', marker='o')\n",
    "plt.xlabel('Number of Heads',fontsize=14)\n",
    "plt.ylabel('Probability',fontsize=14)"
   ]
  },
  {
   "cell_type": "code",
   "execution_count": 7,
   "metadata": {},
   "outputs": [
    {
     "data": {
      "image/png": "[encoded data removed]",
      "text/plain": [
       "<Figure size 432x288 with 1 Axes>"
      ]
     },
     "metadata": {},
     "output_type": "display_data"
    }
   ],
   "source": [
    "\n",
    "from scipy import signal\n",
    "import numpy as np\n",
    "import math\n",
    "\n",
    "def hoeffding (x, epsilon):\n",
    "    y = 2.0 * math.exp (-2*epsilon*epsilon*x)\n",
    "    return y\n",
    "\n",
    "x = np.arange (0, 20, 0.01)\n",
    "\n",
    "y = [hoeffding (x, 0.3) for x in x]\n",
    "\n",
    "import matplotlib.pyplot as plt\n",
    "\n",
    "plt.xlabel ('N')\n",
    "plt.ylabel ('P')\n",
    "latex1 = r'P\\leq2e^{\\left( -2\\varepsilon ^{2}N\\right)}'\n",
    "plt.title (r\"Hoeffding's Inequality: $ %s $\" % latex1)\n",
    "\n",
    "latext2 = r'\\varepsilon'\n",
    "plt.plot (x, y, label='$%s$ = 0.3' % latext2)\n",
    "\n",
    "x2 = 10\n",
    "y2 = hoeffding (10, 0.3)\n",
    "#plt.plot ([0, 10], [y2, y2], label='y = %f' % y2)\n",
    "plt.axhline (y = y2, color='grey', linestyle='--')\n",
    "plt.axvline (x = x2, color='grey', linestyle='--')\n",
    "plt.scatter (x2, y2, color='red', label='x = %d, y = %f' % (x2, y2))\n",
    "\n",
    "plt.legend ()\n",
    "plt.show ()"
   ]
  },
  {
   "cell_type": "code",
   "execution_count": null,
   "metadata": {},
   "outputs": [],
   "source": []
  }
 ],
 "metadata": {
  "kernelspec": {
   "display_name": "Python 3",
   "language": "python",
   "name": "python3"
  },
  "language_info": {
   "codemirror_mode": {
    "name": "ipython",
    "version": 3
   },
   "file_extension": ".py",
   "mimetype": "text/x-python",
   "name": "python",
   "nbconvert_exporter": "python",
   "pygments_lexer": "ipython3",
   "version": "3.6.5"
  }
 },
 "nbformat": 4,
 "nbformat_minor": 2
}
